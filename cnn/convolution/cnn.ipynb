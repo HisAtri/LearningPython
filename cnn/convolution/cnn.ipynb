{
 "cells": [
  {
   "cell_type": "markdown",
   "id": "cdcfda41070c70d1",
   "metadata": {
    "collapsed": false
   },
   "source": [
    "第一步需要导入图片，并转换为可识别的对象，即二维数组\n",
    "使用Pillow导入图片，转换为黑白图像（彩色或者灰度图像可能需要前处理）\n",
    "直接转换为`np.array`对象"
   ]
  },
  {
   "cell_type": "code",
   "execution_count": null,
   "id": "46092ca8b66e6b19",
   "metadata": {
    "collapsed": false
   },
   "outputs": [],
   "source": [
    "from PIL import Image\n",
    "import numpy as np\n",
    "\n",
    "image = Image.open('datas/X.png')\n",
    "# convert('1')可将图像转化为二值图像\n",
    "image = image.convert('1')\n",
    "# 转为numpy array\n",
    "array = np.array(image)\n",
    "\n",
    "print(array)\n",
    "print(f\"{array.size = }\")"
   ]
  },
  {
   "cell_type": "markdown",
   "source": [
    "这里的输出结果可以看到，16×16的图像已经被转换为了16×16的数组。\n",
    "数组元素是True和False，没关系，这不影响后续操作。"
   ],
   "metadata": {
    "collapsed": false
   },
   "id": "8380fdb99a705232"
  },
  {
   "cell_type": "markdown",
   "source": [
    "卷积，是两个函数（信号）合并的一种方式，它可以通过一个函数对另一个函数进行“滤波”，以达到提取特征的目的。\n",
    "\n",
    "[视频资料-卷积](https://www.youtube.com/watch?app=desktop&v=KuXjwB4LzSA)\n",
    "\n",
    "对于此程序，我们使用3×3的卷积核进行滤波。\n",
    "\n",
    "- 为什么采用3×3的卷积核？\n",
    "    - 3×3或5×5的卷积核在CNN的实际应用中较为常见，两个3×3卷积核只需要18个权重就可以有很好的覆盖效果，提高参数的平均效益。\n",
    "    - 较小的卷积核不容易忽略边缘的信号。\n",
    "    - 因此通常采用多个小尺寸卷积核构造多个激活函数"
   ],
   "metadata": {
    "collapsed": false
   },
   "id": "5bc34c7e6b88e954"
  },
  {
   "cell_type": "code",
   "execution_count": null,
   "id": "8bbe66d24d3d7aca",
   "metadata": {
    "collapsed": false
   },
   "outputs": [],
   "source": [
    "from scipy.signal import convolve2d\n",
    "\n",
    "# 左下-右上卷积核\n",
    "# 采用3*3卷积核，卷积核采用(-1, 2)二值\n",
    "# 如果采用(0,1)那么对比度边缘（快速变化的区域）特征会被忽视\n",
    "kernel_vy = np.array([[-1, -1, 2],\n",
    "                      [-1, 2, -1],\n",
    "                      [2, -1, -1]])\n",
    "# 左上-右下卷积核\n",
    "kernel_vx = np.array([[2, -1, -1],\n",
    "                      [-1, 2, -1],\n",
    "                      [-1, -1, 2]])\n",
    "convolved_vx = convolve2d(array, kernel_vx, mode='valid')\n",
    "convolved_vy = convolve2d(array, kernel_vy, mode='valid')\n",
    "\n",
    "# 卷积结果\n",
    "# 由于边缘覆盖问题，16*16的图经过3*3卷积核的采样之后，特征图的大小是14*14\n",
    "print(\"左上-右下卷积结果:\")\n",
    "print(convolved_vx)\n",
    "print(\"左下-右上卷积结果:\")\n",
    "print(convolved_vy)"
   ]
  },
  {
   "cell_type": "markdown",
   "source": [
    "由于滤波器从(2, 2)坐标开始平移，因此实际的卷积得到的特征图大小是14×14"
   ],
   "metadata": {
    "collapsed": false
   },
   "id": "bb276073d6f17aeb"
  },
  {
   "cell_type": "markdown",
   "source": [
    "池化操作\n",
    "\n",
    "其目的是降低参数量，降低最后的向量维度，降低细微变化对整体的影响。\n",
    "\n",
    "具体操作类似于图像转化为分辨率更低的图像。即将数组均分为多个n×n的小数组，\n",
    "把这些小数组取平均值（平均池化）或取最大值（最大池化）后，按照原来的位置，填充得到新数组。\n",
    "\n",
    "在这里，我们输入的是14×14大小图片，池化窗口的大小为2×2，得到的特征图大小是7×7。"
   ],
   "metadata": {
    "collapsed": false
   },
   "id": "ff8d0c724e6321b3"
  },
  {
   "cell_type": "code",
   "execution_count": null,
   "id": "264057d1f5d0757b",
   "metadata": {
    "collapsed": false
   },
   "outputs": [],
   "source": [
    "from skimage.measure import block_reduce\n",
    "\n",
    "# 池化操作\n",
    "# 在这里我们选择最大池化（在一个池化窗口中选取最大值作为池化结果）\n",
    "# 14*14大小图片，以(2,2)池化的结果，得到的特征图大小是7*7\n",
    "pool_size = (2, 2)\n",
    "pooled_vx = block_reduce(convolved_vx, pool_size, np.max)\n",
    "pooled_vy = block_reduce(convolved_vy, pool_size, np.max)\n",
    "\n",
    "print(\"池化结果\")\n",
    "print(pooled_vx)\n",
    "print(pooled_vy)"
   ]
  },
  {
   "cell_type": "markdown",
   "source": [
    "至此已经完成了卷积和池化，我们获得了两个池化后的特征图，它们已经具有了较好的泛化能力。"
   ],
   "metadata": {
    "collapsed": false
   },
   "id": "3dc06a807d3ac324"
  },
  {
   "cell_type": "markdown",
   "source": [
    "接下来，我们直接将两个特征图统一提取出特征向量。"
   ],
   "metadata": {
    "collapsed": false
   },
   "id": "5cea7327869df302"
  },
  {
   "cell_type": "code",
   "execution_count": null,
   "id": "6c30c6502f50669",
   "metadata": {
    "collapsed": false
   },
   "outputs": [],
   "source": [
    "# 将池化后的特征图展平成特征向量，这一操作可以直接使用numpy提供的flatten()方法完成\n",
    "# 实际上转换为全连接层的输入还有其他方法，这里不训练模型，因此直接连接成一个向量\n",
    "flattened_vx = pooled_vx.flatten()\n",
    "flattened_vy = pooled_vy.flatten()\n",
    "# 将两个方向的向量拼合，可以得到一个长向量，作为该图片的特征向量\n",
    "# 特征向量的长度应当是2*7*7=98\n",
    "feature_vector = np.concatenate((flattened_vx, flattened_vy))\n",
    "print(\"特征向量:\")\n",
    "print(feature_vector)"
   ]
  }
 ],
 "metadata": {
  "kernelspec": {
   "display_name": "Python 3 (ipykernel)",
   "language": "python",
   "name": "python3"
  },
  "language_info": {
   "codemirror_mode": {
    "name": "ipython",
    "version": 3
   },
   "file_extension": ".py",
   "mimetype": "text/x-python",
   "name": "python",
   "nbconvert_exporter": "python",
   "pygments_lexer": "ipython3",
   "version": "3.10.0"
  }
 },
 "nbformat": 4,
 "nbformat_minor": 5
}
