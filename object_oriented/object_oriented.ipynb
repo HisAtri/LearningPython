{
 "cells": [
  {
   "metadata": {},
   "cell_type": "markdown",
   "source": "变量的“别名”：引用",
   "id": "1cdb7d10945f1275"
  },
  {
   "cell_type": "code",
   "id": "initial_id",
   "metadata": {
    "collapsed": true
   },
   "source": [
    "a = [1, 2, 3]\n",
    "b = a\n",
    "print(f\"{b =}\\n\"\n",
    "      f\"{a =}\\n\"\n",
    "      f\"{id(a) =}, {id(b) =}, {id(a) == id(b)}\\n\"\n",
    "      f\"{a is b = }\")"
   ],
   "outputs": [],
   "execution_count": null
  },
  {
   "metadata": {},
   "cell_type": "markdown",
   "source": "可变对象的原地修改",
   "id": "972ea64083d0f0dc"
  },
  {
   "metadata": {},
   "cell_type": "code",
   "source": [
    "a = [1, 2, 3]\n",
    "b = a\n",
    "a.append(4)       # 最常见的原地修改操作\n",
    "print(f\"{b =}\\n\"\n",
    "      f\"{a =}\\n\"\n",
    "      f\"{id(a) = }, {id(b) = }, {id(a) == id(b)}\\n\"\n",
    "      f\"{a is b = }\")\n",
    "\n",
    "c = {\"a\": 1}\n",
    "d = c\n",
    "c[\"b\"] = 2\n",
    "c.update({\"c\": 3})\n",
    "c.setdefault(\"d\", 4)\n",
    "del c[\"a\"]\n",
    "print(f\"\\n{d =}\\n\"\n",
    "      f\"{c =}\\n\"\n",
    "      f\"{id(c) = }, {id(d) = }, {id(c) == id(d)}\\n\"\n",
    "      f\"{c is d = }\")"
   ],
   "id": "5a36aa2d060dc88c",
   "outputs": [],
   "execution_count": null
  },
  {
   "metadata": {},
   "cell_type": "code",
   "source": [
    "a = [1, 2, 3]\n",
    "b = a\n",
    "a += [4]\n",
    "a.extend([5])\n",
    "a.insert(0, 0)\n",
    "print(f\"{b =}\\n\"\n",
    "      f\"{a =}\\n\"\n",
    "      f\"{id(a) = }, {id(b) = }, {id(a) == id(b)}\\n\"\n",
    "      f\"{a is b = }\")"
   ],
   "id": "717bd1950cff09e7",
   "outputs": [],
   "execution_count": null
  },
  {
   "metadata": {},
   "cell_type": "markdown",
   "source": [
    "list对象的重新赋值\n",
    "\n",
    "请尤其注意此处`b = b + [4]`与上文`a += [4]`的区别，对list实现`+=`操作，实际上是调用了`extend`方法，属于原地修改。"
   ],
   "id": "6239cf47a60ac842"
  },
  {
   "metadata": {},
   "cell_type": "code",
   "source": [
    "a = [1, 2, 3]\n",
    "b = a\n",
    "b = b + [4]\n",
    "print(f\"{b =}\\n\"\n",
    "      f\"{a =}\\n\"\n",
    "      f\"{id(a) = }, {id(b) = }, {id(a) == id(b)}\\n\"\n",
    "      f\"{a is b = }\")"
   ],
   "id": "8825a29d10b9939",
   "outputs": [],
   "execution_count": null
  },
  {
   "metadata": {},
   "cell_type": "markdown",
   "source": "无限递归",
   "id": "25943ed4d34043fc"
  },
  {
   "metadata": {},
   "cell_type": "code",
   "source": [
    "a = []\n",
    "a.append(a)\n",
    "print(f'{a = }\\n'\n",
    "      f'{a[0] = }\\n'\n",
    "      f'{a[0] is a = }')"
   ],
   "id": "1e69142d8af85d5b",
   "outputs": [],
   "execution_count": null
  },
  {
   "metadata": {},
   "cell_type": "markdown",
   "source": "循环引用",
   "id": "fd34f4a67f699cb9"
  },
  {
   "metadata": {},
   "cell_type": "code",
   "source": [
    "a = []\n",
    "b = [a]\n",
    "a.append(b)\n",
    "print(f'{a = }\\n'\n",
    "      f'{b = }\\n'\n",
    "      f'{a[0] = }\\n'\n",
    "      f'{a[0] is b = }')"
   ],
   "id": "c9c6509b48d6fa39",
   "outputs": [],
   "execution_count": null
  },
  {
   "metadata": {},
   "cell_type": "markdown",
   "source": "对象浅拷贝",
   "id": "ebe5ef7cf113dd47"
  },
  {
   "metadata": {},
   "cell_type": "code",
   "source": [
    "a = [1, 2, 3]\n",
    "b = a.copy()\n",
    "print(f\"{b =}\\n\"\n",
    "      f\"{a =}\\n\"\n",
    "      f\"{id(a) = }, {id(b) = }, {id(a) == id(b)}\\n\"\n",
    "      f\"{a is b = }\")\n",
    "b.append(4)\n",
    "print(f\"\\n{b =}\\n\"\n",
    "      f\"{a =}\")"
   ],
   "id": "d8405334d97de1b9",
   "outputs": [],
   "execution_count": null
  },
  {
   "metadata": {},
   "cell_type": "markdown",
   "source": [
    "浅拷贝与深拷贝的区别\n",
    "\n",
    "浅拷贝（只拷贝第一层，不影响更深层的引用关系）"
   ],
   "id": "b60e4a404239197b"
  },
  {
   "metadata": {},
   "cell_type": "code",
   "source": [
    "a = [1, 2, 3]\n",
    "b = {'a': a}\n",
    "c = b.copy()\n",
    "print(f\"{c =}\\n\"\n",
    "      f\"{b =}\\n\"\n",
    "      f\"{id(b) = }, {id(c) = }, {id(b) == id(c)}\\n\"\n",
    "      f\"{b is c = }\")\n",
    "a.append(4)\n",
    "print(f\"\\n{c =}\\n\"\n",
    "      f\"{b =}\")"
   ],
   "id": "fdf8370ce228f438",
   "outputs": [],
   "execution_count": null
  },
  {
   "metadata": {},
   "cell_type": "markdown",
   "source": "对象深拷贝（拷贝所有层次，使引用关系失效）",
   "id": "66eae5081138099d"
  },
  {
   "metadata": {},
   "cell_type": "code",
   "source": [
    "import copy\n",
    "\n",
    "a = [1, 2, 3]\n",
    "b = {'a': a}\n",
    "c = copy.deepcopy(b)\n",
    "print(f\"{c =}\\n\"\n",
    "      f\"{b =}\\n\"\n",
    "      f\"{id(b) = }, {id(c) = }, {id(b) == id(c)}\\n\"\n",
    "      f\"{b is c = }\")\n",
    "a.append(4)\n",
    "print(f\"\\n{c =}\\n\"\n",
    "      f\"{b =}\\n\"\n",
    "      f\"{b['a'] is c['a'] = }\")"
   ],
   "id": "62df2db7aeb69870",
   "outputs": [],
   "execution_count": null
  },
  {
   "metadata": {},
   "cell_type": "markdown",
   "source": "不要将可变实参作为函数的默认实参",
   "id": "23dc17678994f7c6"
  },
  {
   "metadata": {},
   "cell_type": "code",
   "source": [
    "def append_element(element, x=[]):\n",
    "    x.append(element)\n",
    "    return x\n",
    "\n",
    "print(append_element(1))\n",
    "print(append_element(2))"
   ],
   "id": "7b18cd1d061cca15",
   "outputs": [],
   "execution_count": null
  },
  {
   "metadata": {},
   "cell_type": "markdown",
   "source": "请使用None代替可变对象作为默认实参",
   "id": "6662a074ed7cfd18"
  },
  {
   "metadata": {},
   "cell_type": "code",
   "source": [
    "def append_element(element, x=None):\n",
    "    if x is None:\n",
    "        x = []\n",
    "    x.append(element)\n",
    "    return x\n",
    "\n",
    "print(append_element(1))\n",
    "print(append_element(2))"
   ],
   "id": "74c249175ac02a88",
   "outputs": [],
   "execution_count": null
  }
 ],
 "metadata": {
  "kernelspec": {
   "display_name": "Python 3",
   "language": "python",
   "name": "python3"
  },
  "language_info": {
   "codemirror_mode": {
    "name": "ipython",
    "version": 2
   },
   "file_extension": ".py",
   "mimetype": "text/x-python",
   "name": "python",
   "nbconvert_exporter": "python",
   "pygments_lexer": "ipython2",
   "version": "2.7.6"
  }
 },
 "nbformat": 4,
 "nbformat_minor": 5
}
