{
 "cells": [
  {
   "cell_type": "markdown",
   "source": [
    "## 最基础的用法"
   ],
   "metadata": {
    "collapsed": false
   },
   "id": "8717f8a6e715761d"
  },
  {
   "cell_type": "code",
   "execution_count": null,
   "id": "initial_id",
   "metadata": {
    "collapsed": true
   },
   "outputs": [],
   "source": [
    "print(f\"1+1={1+1}\")"
   ]
  },
  {
   "cell_type": "code",
   "outputs": [],
   "source": [
    "x = 1 + 1\n",
    "print(f\"x={x}\")"
   ],
   "metadata": {
    "collapsed": false
   },
   "id": "8e5193f799aaa6ef",
   "execution_count": null
  },
  {
   "cell_type": "markdown",
   "source": [
    "## 自记录"
   ],
   "metadata": {
    "collapsed": false
   },
   "id": "580c64955317dc17"
  },
  {
   "cell_type": "code",
   "outputs": [],
   "source": [
    "print(f\"{1 + 1 = }\")"
   ],
   "metadata": {
    "collapsed": false
   },
   "id": "382a6e6fb3ee3f07",
   "execution_count": null
  },
  {
   "cell_type": "code",
   "outputs": [],
   "source": [
    "a, b = 2, 6\n",
    "print(f\"{a + b = }\")\n",
    "print(f\"{a=},{b=},{a+b=}\")"
   ],
   "metadata": {
    "collapsed": false
   },
   "id": "3992678b5fb6da4d",
   "execution_count": null
  },
  {
   "cell_type": "markdown",
   "source": [
    "## 数字处理\n",
    "\n",
    "千分位分隔"
   ],
   "metadata": {
    "collapsed": false
   },
   "id": "ad792a94dcf6d118"
  },
  {
   "cell_type": "code",
   "outputs": [],
   "source": [
    "print(f\"{1145141919810:,}\")\n",
    "print(f\"{1145141919810:_}\")"
   ],
   "metadata": {
    "collapsed": false
   },
   "id": "d79cc16e2ce57302",
   "execution_count": null
  },
  {
   "cell_type": "markdown",
   "source": [
    "浮点数修约\n",
    "默认修约（小数点后6位）"
   ],
   "metadata": {
    "collapsed": false
   },
   "id": "822a9a1f8cec0081"
  },
  {
   "cell_type": "code",
   "outputs": [],
   "source": [
    "a = 1.145141919\n",
    "print(f\"{a:f}\")"
   ],
   "metadata": {
    "collapsed": false
   },
   "id": "44e9fa55caf456e3",
   "execution_count": null
  },
  {
   "cell_type": "markdown",
   "source": [
    "指定位数修约"
   ],
   "metadata": {
    "collapsed": false
   },
   "id": "5999a97f8ea53718"
  },
  {
   "cell_type": "code",
   "outputs": [],
   "source": [
    "a = 1.145141919\n",
    "print(f\"{a:.2f}\")"
   ],
   "metadata": {
    "collapsed": false
   },
   "id": "2e286b93326500b",
   "execution_count": null
  },
  {
   "cell_type": "markdown",
   "source": [
    "科学计数法"
   ],
   "metadata": {
    "collapsed": false
   },
   "id": "6cb73edbdf98d392"
  },
  {
   "cell_type": "code",
   "outputs": [],
   "source": [
    "a = 99 ** 9\n",
    "print(f\"{a:e}\")\n",
    "print(f\"{a:E}\")"
   ],
   "metadata": {
    "collapsed": false
   },
   "id": "b989440285a539f5",
   "execution_count": null
  },
  {
   "cell_type": "markdown",
   "source": [
    "联合使用"
   ],
   "metadata": {
    "collapsed": false
   },
   "id": "8e90b3c4850845fa"
  },
  {
   "cell_type": "code",
   "outputs": [],
   "source": [
    "a = 99 ** 9\n",
    "print(f\"{a:.3e}\")"
   ],
   "metadata": {
    "collapsed": false
   },
   "id": "32cb001e38bf4dde",
   "execution_count": null
  },
  {
   "cell_type": "code",
   "outputs": [],
   "source": [
    "a = 123456789.987654321\n",
    "print(f\"{a:_.3f}\")"
   ],
   "metadata": {
    "collapsed": false
   },
   "id": "c6b08fc9dacb9d9",
   "execution_count": null
  },
  {
   "cell_type": "markdown",
   "source": [
    "## 时间对象处理"
   ],
   "metadata": {
    "collapsed": false
   },
   "id": "b95ec281a40b5dfc"
  },
  {
   "cell_type": "code",
   "outputs": [],
   "source": [
    "from datetime import datetime\n",
    "now = datetime.now()\n",
    "print(f\"{now:%c}\")\n",
    "print(f\"{now:%Y-%m-%d %H:%M:%S}\")"
   ],
   "metadata": {
    "collapsed": false
   },
   "id": "568e23e27004f7bd",
   "execution_count": null
  },
  {
   "cell_type": "markdown",
   "source": [
    "## 缩进控制"
   ],
   "metadata": {
    "collapsed": false
   },
   "id": "20ad2b650402b3f8"
  },
  {
   "cell_type": "code",
   "outputs": [],
   "source": [
    "x=1\n",
    "print(f\"|{x:3}|\")\n",
    "print(f\"|{x:03}|\")\n",
    "print(f\"|{x:<3}|\")\n",
    "print(f\"|{x:>3}|\")\n",
    "print(f\"|{x:^3}|\")\n",
    "print(f\"|{x:_>3}|\")\n",
    "x=-1\n",
    "print(f\"|{x:=3}|\")"
   ],
   "metadata": {
    "collapsed": false
   },
   "id": "aba6052dc5babe22",
   "execution_count": null
  },
  {
   "cell_type": "markdown",
   "source": [
    "## 实际应用\n",
    "输出九九乘法表"
   ],
   "metadata": {
    "collapsed": false
   },
   "id": "ef07a278908eec9a"
  },
  {
   "cell_type": "code",
   "outputs": [],
   "source": [
    "for x in range(1, 10):\n",
    "    for y in range(1, x + 1):\n",
    "        print(f\"|{x}*{y}={x * y:<2}\", end=\"\")\n",
    "    print(\"|\")"
   ],
   "metadata": {
    "collapsed": false
   },
   "id": "8452e2a71ec1e0a1",
   "execution_count": null
  },
  {
   "cell_type": "markdown",
   "source": [
    "## 格式化模板"
   ],
   "metadata": {
    "collapsed": false
   },
   "id": "6e0923d7133e7a42"
  },
  {
   "cell_type": "code",
   "outputs": [],
   "source": [
    "from datetime import datetime\n",
    "\n",
    "format_s: str = '%Y-%m-%d %H:%M:%S'\n",
    "now = datetime.now()\n",
    "\n",
    "print(f'现在是{now:%Y-%m-%d %H:%M:%S}')\n",
    "print(f'现在是{now:{format_s}}')"
   ],
   "metadata": {
    "collapsed": false
   },
   "id": "8df2b4d881054be2",
   "execution_count": null
  },
  {
   "cell_type": "markdown",
   "source": [
    "## 更多的联合使用"
   ],
   "metadata": {
    "collapsed": false
   },
   "id": "270416fa3277708f"
  },
  {
   "cell_type": "code",
   "outputs": [],
   "source": [
    "num = 299792458000\n",
    "print(f'{num = :E}')\n",
    "print(f'{num = :.3e}')"
   ],
   "metadata": {
    "collapsed": false
   },
   "id": "bcf4099545610ebf",
   "execution_count": null
  },
  {
   "cell_type": "markdown",
   "source": [
    "# 字符串、重构表达式与ASCII表示"
   ],
   "metadata": {
    "collapsed": false
   },
   "id": "1cd7e55b75827787"
  },
  {
   "cell_type": "code",
   "outputs": [],
   "source": [
    "from datetime import datetime, date\n",
    "\n",
    "now: date = datetime.now().date()\n",
    "name: str = '亚托莉'\n",
    "print(f'你好{name}，今天是{now}')\n",
    "print(f'你好{name!s}，今天是{now!s}')\n",
    "print(f'你好{name!r}，今天是{now!r}')\n",
    "print(f'你好{name!a}，今天是{now!a}')"
   ],
   "metadata": {
    "collapsed": false
   },
   "id": "31a757c1cfe98fff",
   "execution_count": null
  },
  {
   "cell_type": "markdown",
   "source": [
    "以下方式是等价的"
   ],
   "metadata": {
    "collapsed": false
   },
   "id": "e5ca647db0263463"
  },
  {
   "cell_type": "code",
   "outputs": [],
   "source": [
    "print(f'你好{name!s}，今天是{now!s}')\n",
    "print(f'你好{name!r}，今天是{now!r}')\n",
    "print(f'你好{name!a}，今天是{now!a}')\n",
    "\n",
    "print(f'你好{str(name)}，今天是{str(now)}')\n",
    "print(f'你好{repr(name)}，今天是{repr(now)}')\n",
    "print(f'你好{ascii(name)}，今天是{ascii(now)}')"
   ],
   "metadata": {
    "collapsed": false
   },
   "id": "b562f99265406413",
   "execution_count": null
  },
  {
   "cell_type": "markdown",
   "source": [
    "## Number类型的多种进制表示"
   ],
   "metadata": {
    "collapsed": false
   },
   "id": "8f97e6a13772630c"
  },
  {
   "cell_type": "code",
   "outputs": [],
   "source": [
    "number = 210078019540200\n",
    "\n",
    "print(f'{number = :d}的十六进制表示是{number:x}，'\n",
    "      f'八进制表示是{number:o}，'\n",
    "      f'二进制表示是{number:b}')"
   ],
   "metadata": {
    "collapsed": false
   },
   "id": "3355bb6e6639ae6",
   "execution_count": null
  }
 ],
 "metadata": {
  "kernelspec": {
   "display_name": "Python 3",
   "language": "python",
   "name": "python3"
  },
  "language_info": {
   "codemirror_mode": {
    "name": "ipython",
    "version": 2
   },
   "file_extension": ".py",
   "mimetype": "text/x-python",
   "name": "python",
   "nbconvert_exporter": "python",
   "pygments_lexer": "ipython2",
   "version": "2.7.6"
  }
 },
 "nbformat": 4,
 "nbformat_minor": 5
}
