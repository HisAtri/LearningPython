{
 "cells": [
  {
   "cell_type": "markdown",
   "source": [
    "# 闭包"
   ],
   "metadata": {
    "collapsed": false
   },
   "id": "9ad7f5395c83c515"
  },
  {
   "cell_type": "markdown",
   "source": [
    "简单的闭包示例"
   ],
   "metadata": {
    "collapsed": false
   },
   "id": "84d368be8f386089"
  },
  {
   "cell_type": "code",
   "execution_count": null,
   "id": "initial_id",
   "metadata": {
    "collapsed": true
   },
   "outputs": [],
   "source": [
    "def outer_function(x):\n",
    "  def inner_function(y):\n",
    "      return x + y\n",
    "  return inner_function\n",
    "\n",
    "closure = outer_function(10)\n",
    "print(closure(5))    # 15\n",
    "print(closure(10))   # 20"
   ]
  },
  {
   "cell_type": "markdown",
   "source": [
    "闭包的应用：保存状态"
   ],
   "metadata": {
    "collapsed": false
   },
   "id": "dd9b71f811282bd7"
  },
  {
   "cell_type": "code",
   "outputs": [],
   "source": [
    "def counter():\n",
    "    count = 0\n",
    "    def inner():\n",
    "        nonlocal count\n",
    "        count += 1\n",
    "        return count\n",
    "    return inner\n",
    "\n",
    "c = counter()\n",
    "print(c())    # 1\n",
    "print(c())    # 2"
   ],
   "metadata": {
    "collapsed": false
   },
   "id": "163f0b4d19740a38",
   "execution_count": null
  },
  {
   "cell_type": "markdown",
   "source": [
    "# 工厂函数"
   ],
   "metadata": {
    "collapsed": false
   },
   "id": "fb271edf0deb2e14"
  },
  {
   "cell_type": "markdown",
   "source": [
    "案例1：日志封装\n",
    "\n",
    "> 注意，以下代码没有输出，但是会创建两个文件：error.log 和 event.log"
   ],
   "metadata": {
    "collapsed": false
   },
   "id": "ab1ddfd31b1798a2"
  },
  {
   "cell_type": "code",
   "outputs": [],
   "source": [
    "def create_logger(log_file):\n",
    "    def logger(message):\n",
    "        with open(log_file, 'a') as file:\n",
    "            file.write(message + '\\n')\n",
    "    return logger\n",
    "\n",
    "error_logger = create_logger('error.log')\n",
    "event_logger = create_logger('event.log')\n",
    "\n",
    "error_logger('Error occurred: Division by zero')\n",
    "event_logger('User \"admin\" logged in')"
   ],
   "metadata": {
    "collapsed": false
   },
   "id": "419112e6ce1892de",
   "execution_count": null
  },
  {
   "cell_type": "markdown",
   "source": [
    "案例2：面积计算器"
   ],
   "metadata": {
    "collapsed": false
   },
   "id": "b9bbdd7f2bed056d"
  },
  {
   "cell_type": "code",
   "outputs": [],
   "source": [
    "class Circle:\n",
    "    def __init__(self, radius):\n",
    "        self.radius = radius\n",
    "        \n",
    "    def area(self):\n",
    "        return 3.14 * self.radius ** 2\n",
    "    \n",
    "class Rectangle:\n",
    "    def __init__(self, width, height):\n",
    "        self.width = width\n",
    "        self.height = height\n",
    "        \n",
    "    def area(self):\n",
    "        return self.width * self.height\n",
    "    \n",
    "def create_shape(shape_type, *args, **kwargs):\n",
    "    if shape_type == 'circle':\n",
    "        return Circle(*args, **kwargs)\n",
    "    elif shape_type == 'rectangle':\n",
    "        return Rectangle(*args, **kwargs)\n",
    "    else:\n",
    "        raise ValueError('Invalid shape type')\n",
    "    \n",
    "circle = create_shape('circle', 5)\n",
    "print(circle.area())\n",
    "rectangle = create_shape('rectangle', 3, 4)\n",
    "print(rectangle.area())"
   ],
   "metadata": {
    "collapsed": false
   },
   "id": "f4c89ef9cfbb1533",
   "execution_count": null
  },
  {
   "cell_type": "markdown",
   "source": [
    "# 装饰器"
   ],
   "metadata": {
    "collapsed": false
   },
   "id": "3e090c1e75a596cc"
  },
  {
   "cell_type": "markdown",
   "source": [
    "代码运行时间"
   ],
   "metadata": {
    "collapsed": false
   },
   "id": "b40b66208dfeb0b2"
  },
  {
   "cell_type": "code",
   "outputs": [],
   "source": [
    "import time\n",
    "\n",
    "def benchmark(func):\n",
    "    def wrapper(*args, **kwargs):\n",
    "        start = time.perf_counter()\n",
    "        return_value = func(*args, **kwargs)\n",
    "        end = time.perf_counter()\n",
    "        print(f'函数 {func.__name__} 运行耗时 {end - start:.2f} 秒')\n",
    "        return return_value\n",
    "    return wrapper\n",
    "\n",
    "@benchmark\n",
    "def count_prime_number(n):\n",
    "    count = 0\n",
    "    for num in range(2, n + 1):\n",
    "        prime = True\n",
    "        for i in range(2, num):\n",
    "            if num % i == 0:\n",
    "                prime = False\n",
    "                break\n",
    "        if prime:\n",
    "            count += 1\n",
    "    return count\n",
    "\n",
    "count_prime_number(10000)"
   ],
   "metadata": {
    "collapsed": false
   },
   "id": "4a63f4317bdda30a",
   "execution_count": null
  },
  {
   "cell_type": "markdown",
   "source": [
    "命令解析"
   ],
   "metadata": {
    "collapsed": false
   },
   "id": "b0a3746456b5e64d"
  },
  {
   "cell_type": "code",
   "outputs": [],
   "source": [
    "def cmd_register():\n",
    "    commands = {}\n",
    "    def register(name):\n",
    "        def wrapper(func):\n",
    "            commands[name] = func\n",
    "            return func\n",
    "        return wrapper\n",
    "    def run(name, *args, **kwargs):\n",
    "        return commands[name](*args, **kwargs)\n",
    "    return register, run\n",
    "\n",
    "command, runner = cmd_register()\n",
    "\n",
    "@command('add')\n",
    "def add(a, b):\n",
    "    return a + b\n",
    "\n",
    "@command('sub')\n",
    "def sub(a, b):\n",
    "    return a - b\n",
    "\n",
    "print(runner('add', 1, 2))\n",
    "print(runner('sub', 3, 1))"
   ],
   "metadata": {
    "collapsed": false
   },
   "id": "ec24ea15ab7df3f",
   "execution_count": null
  },
  {
   "cell_type": "markdown",
   "source": [
    "并不实际的实际应用\n",
    "\n",
    "但理解它是真正的挑战"
   ],
   "metadata": {
    "collapsed": false
   },
   "id": "cf3e21d65ed0a0d7"
  },
  {
   "cell_type": "code",
   "outputs": [],
   "source": [
    "from numbers import Number\n",
    "\n",
    "def cmd_register():\n",
    "    commands = {}\n",
    "\n",
    "    def register(name):\n",
    "        def wrapper(func):\n",
    "            commands[name] = func\n",
    "            return func\n",
    "        return wrapper\n",
    "\n",
    "    def run(name, *args, **kwargs):\n",
    "        return commands[name](*args, **kwargs)\n",
    "    return register, run\n",
    "\n",
    "def checker(args_checker, kwargs_checker):\n",
    "    # 传入的两个检查器是两个函数，分别检查args和kwargs；如果是Bool类型-> True表示始终通过检查，False表示不能有参数\n",
    "    def wrapper(func):\n",
    "        def inner(*args, **kwargs):\n",
    "            for val, check in zip([args, kwargs], [args_checker, kwargs_checker]):\n",
    "                if check is True:\n",
    "                    continue\n",
    "                elif check is False and len(val) > 0:\n",
    "                    raise ValueError(f\"Argument error in function {func.__name__}\")\n",
    "                elif not isinstance(check, bool) and not check(val):\n",
    "                    raise ValueError(f\"Argument check failed in function {func.__name__}\")\n",
    "            return func(*args, **kwargs)\n",
    "        return inner\n",
    "    return wrapper\n",
    "\n",
    "command, runner = cmd_register()\n",
    "\n",
    "@command('add')\n",
    "# 这里的匿名函数检查条件：传入参数都是Number类型\n",
    "@checker(lambda x: all(isinstance(i, Number) for i in x), False)\n",
    "def add(*args):\n",
    "    return sum(args)\n",
    "\n",
    "@command('dev')\n",
    "# 这里的匿名函数检查条件：传入参数都是Number类型，且只有两个参数，且第二个参数不能为0\n",
    "@checker(lambda x: all(isinstance(i, Number) for i in x) and len(x) == 2 and x[1]!=0, False)\n",
    "def dev(*args):\n",
    "    return args[0] / args[1]\n",
    "\n",
    "if __name__ == '__main__':\n",
    "    print(runner('add', 1, 2))\n",
    "    print(runner('dev', 3, 1))"
   ],
   "metadata": {
    "collapsed": false
   },
   "id": "d189b2df6d5288f3",
   "execution_count": null
  }
 ],
 "metadata": {
  "kernelspec": {
   "display_name": "Python 3",
   "language": "python",
   "name": "python3"
  },
  "language_info": {
   "codemirror_mode": {
    "name": "ipython",
    "version": 2
   },
   "file_extension": ".py",
   "mimetype": "text/x-python",
   "name": "python",
   "nbconvert_exporter": "python",
   "pygments_lexer": "ipython2",
   "version": "2.7.6"
  }
 },
 "nbformat": 4,
 "nbformat_minor": 5
}
