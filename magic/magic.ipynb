{
 "cells": [
  {
   "cell_type": "markdown",
   "source": [
    "## 案例1：我们习惯的“调用”"
   ],
   "metadata": {
    "collapsed": false
   },
   "id": "f8d710ddedd0fbd7"
  },
  {
   "cell_type": "code",
   "execution_count": 1,
   "id": "initial_id",
   "metadata": {
    "collapsed": true,
    "ExecuteTime": {
     "end_time": "2024-04-11T07:28:09.301378Z",
     "start_time": "2024-04-11T07:28:09.275379Z"
    }
   },
   "outputs": [
    {
     "name": "stdout",
     "output_type": "stream",
     "text": [
      "99\n",
      "1\n"
     ]
    }
   ],
   "source": [
    "import random\n",
    "\n",
    "print(random.randint(1,100))\n",
    "print(random.randint(1,100))"
   ]
  },
  {
   "cell_type": "code",
   "outputs": [
    {
     "name": "stdout",
     "output_type": "stream",
     "text": [
      "8\n",
      "8\n"
     ]
    }
   ],
   "source": [
    "import random\n",
    "\n",
    "r = random.randint(1,100)\n",
    "print(r)\n",
    "print(r)"
   ],
   "metadata": {
    "collapsed": false,
    "ExecuteTime": {
     "end_time": "2024-04-11T07:28:09.316377Z",
     "start_time": "2024-04-11T07:28:09.303378Z"
    }
   },
   "id": "c0244b2fcec0def1",
   "execution_count": 2
  },
  {
   "cell_type": "markdown",
   "source": [
    "会变化的输出"
   ],
   "metadata": {
    "collapsed": false
   },
   "id": "3b75ff481fdcc8bb"
  },
  {
   "cell_type": "code",
   "outputs": [
    {
     "name": "stdout",
     "output_type": "stream",
     "text": [
      "51\n",
      "161\n"
     ]
    }
   ],
   "source": [
    "import random\n",
    "\n",
    "class Ard:\n",
    "    def __str__(self):\n",
    "        return str(random.randint(0, 999))\n",
    "\n",
    "ard = Ard()\n",
    "print(ard)\n",
    "print(ard)"
   ],
   "metadata": {
    "collapsed": false,
    "ExecuteTime": {
     "end_time": "2024-04-11T07:28:09.331376Z",
     "start_time": "2024-04-11T07:28:09.318377Z"
    }
   },
   "id": "15668679fd813e07",
   "execution_count": 3
  },
  {
   "cell_type": "markdown",
   "source": [
    "统计这个对象被打印的次数"
   ],
   "metadata": {
    "collapsed": false
   },
   "id": "267cbbb7ccba9a80"
  },
  {
   "cell_type": "code",
   "outputs": [
    {
     "name": "stdout",
     "output_type": "stream",
     "text": [
      "1\n",
      "2\n"
     ]
    }
   ],
   "source": [
    "class Monitor:\n",
    "    def __init__(self):\n",
    "        self.counter = 0\n",
    "\n",
    "    def __str__(self):\n",
    "        self.counter += 1\n",
    "        return str(self.counter)\n",
    "\n",
    "monitor = Monitor()\n",
    "print(monitor)\n",
    "print(monitor)"
   ],
   "metadata": {
    "collapsed": false,
    "ExecuteTime": {
     "end_time": "2024-04-11T07:28:09.347376Z",
     "start_time": "2024-04-11T07:28:09.333379Z"
    }
   },
   "id": "58281a3ac0f9540a",
   "execution_count": 4
  },
  {
   "cell_type": "markdown",
   "source": [
    "## 案例2：JathonScript\n",
    "通过重写字典的`__getattribute__`方法，实现类似JavaScript的层次访问"
   ],
   "metadata": {
    "collapsed": false
   },
   "id": "c6d7fd5f59e525c0"
  },
  {
   "cell_type": "code",
   "outputs": [
    {
     "name": "stdout",
     "output_type": "stream",
     "text": [
      "1\n",
      "2\n",
      "3\n"
     ]
    }
   ],
   "source": [
    "class EasyDict(dict):\n",
    "    def __getattribute__(self, item):\n",
    "        if isinstance(self[item], dict):\n",
    "            return EasyDict(self[item])\n",
    "        return self[item]\n",
    "\n",
    "\n",
    "obj = {\n",
    "    'a': 1,\n",
    "    'b': {\n",
    "        'c': 2,\n",
    "        'd': {\n",
    "            'e': 3\n",
    "        }\n",
    "    }\n",
    "}\n",
    "\n",
    "obj = EasyDict(obj)\n",
    "print(obj.a)\n",
    "print(obj.b.c)\n",
    "print(obj.b.d.e)"
   ],
   "metadata": {
    "collapsed": false,
    "ExecuteTime": {
     "end_time": "2024-04-11T07:28:09.363376Z",
     "start_time": "2024-04-11T07:28:09.349380Z"
    }
   },
   "id": "3e8891f6b8f5e46f",
   "execution_count": 5
  }
 ],
 "metadata": {
  "kernelspec": {
   "display_name": "Python 3",
   "language": "python",
   "name": "python3"
  },
  "language_info": {
   "codemirror_mode": {
    "name": "ipython",
    "version": 2
   },
   "file_extension": ".py",
   "mimetype": "text/x-python",
   "name": "python",
   "nbconvert_exporter": "python",
   "pygments_lexer": "ipython2",
   "version": "2.7.6"
  }
 },
 "nbformat": 4,
 "nbformat_minor": 5
}
